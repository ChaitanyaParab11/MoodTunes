import requests
import json

# Replace <your_client_id> and <your_client_secret> with your own Spotify Developer credentials
client_id = "<your_client_id>"
client_secret = "<your_client_secret>"

# Get an access token
auth_response = requests.post("https://accounts.spotify.com/api/token",
    data={
        "grant_type": "client_credentials"
    },
    auth=(client_id, client_secret)
)
access_token = auth_response.json()["access_token"]

# Get recommendations based on a seed track
track_id = "4uLU6hMCjMI75M1A2tKUQC"
recommendations_response = requests.get("https://api.spotify.com/v1/recommendations",
    headers={
        "Authorization": "Bearer " + access_token
    },
    params={
        "seed_tracks": track_id,
        "limit": 10
    }
)
recommendations = recommendations_response.json()["tracks"]

# Print the recommendations
for track in recommendations:
    print(f"{track['name']} by {track['artists'][0]['name']}")
